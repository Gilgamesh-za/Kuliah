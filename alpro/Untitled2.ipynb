{
  "cells": [
    {
      "cell_type": "markdown",
      "metadata": {
        "id": "Bb0GfIZII3zO"
      },
      "source": [
        "<h1>PRAKTIKUM PENGGUNAAN ARRAY</h1>\n"
      ]
    },
    {
      "cell_type": "markdown",
      "metadata": {
        "id": "y-QgSoC5Mb4e"
      },
      "source": [
        "<h6>YOGA HERMAWAN</H6>\n",
        "<h6>outline:<ul>\n",
        "  <li>Implementasi 1D array dengan menggunakan contoh kasus antrian</li>\n",
        "  <li>Implementasi 2D array sebagai representasi tabel</li></ul></H6>\n"
      ]
    },
    {
      "cell_type": "markdown",
      "metadata": {
        "id": "6V7fmcc8NhcL"
      },
      "source": [
        "<h1>import Library</h1>"
      ]
    },
    {
      "cell_type": "code",
      "execution_count": null,
      "metadata": {
        "id": "RmpCFd59LIoH"
      },
      "outputs": [],
      "source": [
        "from IPython.display import clear_output"
      ]
    },
    {
      "cell_type": "markdown",
      "metadata": {
        "id": "0YOQdJGyNov3"
      },
      "source": [
        "<h1>Deklarasi variabel dan array</h1>"
      ]
    },
    {
      "cell_type": "code",
      "execution_count": null,
      "metadata": {
        "id": "sThHT9wCLfcT"
      },
      "outputs": [],
      "source": [
        "idxAntrian = 0\n",
        "antrianSekarang = 0\n",
        "arAntrian = []"
      ]
    },
    {
      "cell_type": "markdown",
      "metadata": {
        "id": "mxpYXZSXOAIT"
      },
      "source": [
        "<h1>Fungsi antrian dengan menggunakan array</h1>"
      ]
    },
    {
      "cell_type": "code",
      "execution_count": null,
      "metadata": {
        "id": "HZic1soDMFNl"
      },
      "outputs": [],
      "source": [
        "def appAntrian():\n",
        "    global idxAntrian, antrianSekarang\n",
        "    inp = int(input(\"Masukan pilihan = \"))\n",
        "    if inp == 99:\n",
        "        return False\n",
        "    elif inp == 1:\n",
        "        idxAntrian += 1\n",
        "        arAntrian.append(idxAntrian)\n",
        "        return True\n",
        "    elif inp == 2:\n",
        "        idxFind = arAntrian.index(int(input(\"Masukan Nomor Antrian = \")))\n",
        "        del arAntrian[idxFind]\n",
        "        return True\n",
        "    elif inp == 3:\n",
        "        antrianSekarang = arAntrian.pop(0)\n",
        "        return True\n",
        "    elif inp == 4:\n",
        "        nmrAntrianPrioritas = int(input(\"Masukan Nomor Antrian Prioritas = \"))\n",
        "        idxFind = arAntrian.index(nmrAntrianPrioritas)\n",
        "        del arAntrian[idxFind]\n",
        "        arAntrian.insert(0, nmrAntrianPrioritas)\n",
        "        return True\n",
        "    else:\n",
        "        return True"
      ]
    },
    {
      "cell_type": "markdown",
      "metadata": {
        "id": "WidEbi-1ONCt"
      },
      "source": [
        "<h1>Aplikasi Looping untuk memanggil fungsi secara simultan</h1>"
      ]
    },
    {
      "cell_type": "code",
      "execution_count": null,
      "metadata": {
        "colab": {
          "background_save": true,
          "base_uri": "https://localhost:8080/"
        },
        "id": "yH9E9jn_OVeo",
        "outputId": "16cc34ad-a776-4ca8-d6b4-8ea2d0364092"
      },
      "outputs": [
        {
          "name": "stdout",
          "output_type": "stream",
          "text": [
            "Menu Pilihan :\n",
            "  1. Ambil Antrian\n",
            "  2. Hapus Antrian\n",
            "  3. Panggil Antrian Selanjutnya\n",
            "  4. Antrian Prioritas\n",
            "  99. Exit\n",
            "\n",
            "\n",
            "Nomor Antrian : []\n",
            "\n",
            "\n",
            "Antrian Sekarang : 0\n"
          ]
        }
      ],
      "source": [
        "kondisi = True\n",
        "while kondisi:\n",
        "    print(f\"Menu Pilihan :\")\n",
        "    print(\"  1. Ambil Antrian\")\n",
        "    print(\"  2. Hapus Antrian\")\n",
        "    print(\"  3. Panggil Antrian Selanjutnya\")\n",
        "    print(\"  4. Antrian Prioritas\")\n",
        "    \n",
        "    print(\"  99. Exit\")\n",
        "    print(f\"\\n\\nNomor Antrian : {arAntrian}\")\n",
        "    print(f\"\\n\\nAntrian Sekarang : {antrianSekarang}\")\n",
        "    kondisi = appAntrian()\n",
        "    #idxAntrian = idxAntrian + 1\n",
        "    clear_output(wait=False) #menghapus output"
      ]
    },
    {
      "cell_type": "markdown",
      "metadata": {
        "id": "uE3b_a87O3tA"
      },
      "source": [
        "<h1>Array 2D sebagai repreasentasi data dalam tabel</h1>"
      ]
    },
    {
      "cell_type": "markdown",
      "metadata": {
        "id": "v1A5bs1ePs5Y"
      },
      "source": [
        "<h3>Bagaimanakah wujud jika dibentuk kedalam tabel ?</h3>  "
      ]
    },
    {
      "cell_type": "code",
      "execution_count": null,
      "metadata": {
        "id": "KX68_ihSP2DW"
      },
      "outputs": [],
      "source": [
        "arDataMahasiswa = [\n",
        "    ['Wahyu', 'L', 'S2'],\n",
        "    ['Cahyo', 'L', 'S3'],\n",
        "    ['Wahyuni', 'P', 'S4']\n",
        "]"
      ]
    },
    {
      "cell_type": "code",
      "execution_count": null,
      "metadata": {
        "id": "lRJ40AZ_P5wd"
      },
      "outputs": [],
      "source": [
        "for i, val1 in enumerate(arDataMahasiswa):\n",
        "    for j,val2 in enumerate(val1):\n",
        "        print(f\"Data index ke {i},{j} --> {val2}\")"
      ]
    }
  ],
  "metadata": {
    "colab": {
      "provenance": []
    },
    "kernelspec": {
      "display_name": "Python 3",
      "name": "python3"
    },
    "language_info": {
      "name": "python"
    }
  },
  "nbformat": 4,
  "nbformat_minor": 0
}