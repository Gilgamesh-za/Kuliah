{
 "cells": [
  {
   "cell_type": "code",
   "execution_count": 1,
   "id": "4a30cdcf-a5e8-4dec-b433-832b0031c2ea",
   "metadata": {
    "tags": []
   },
   "outputs": [],
   "source": [
    "from IPython.display import clear_output"
   ]
  },
  {
   "cell_type": "code",
   "execution_count": null,
   "id": "6a21868d-80f4-4ef1-a829-a858b0dd32ff",
   "metadata": {},
   "outputs": [],
   "source": [
    "idxAntrian = 0\n",
    "antrianSekarang = 0\n",
    "arAntrian = []"
   ]
  },
  {
   "cell_type": "code",
   "execution_count": 1,
   "id": "609c7ddc-cd94-4680-a34b-1f490344311a",
   "metadata": {
    "tags": []
   },
   "outputs": [],
   "source": [
    "def appAntrian():\n",
    "    global idxAntrian, antrianSekarang\n",
    "    inp = int(input(\"Masukan pilihan = \"))\n",
    "    if inp == 99:\n",
    "        return False\n",
    "    elif inp == 1:\n",
    "        idxAntrian += 1\n",
    "        arAntrian.append(idxAntrian)\n",
    "        return True\n",
    "    elif inp == 2:\n",
    "        idxFind = arAntrian.index(int(input(\"Masukan Nomor Antrian = \")))\n",
    "        del arAntrian[idxFind]\n",
    "        return True\n",
    "    elif inp == 3:\n",
    "        antrianSekarang = arAntrian.pop(0)\n",
    "        return True\n",
    "    elif inp == 4:\n",
    "        nmrAntrianPrioritas = int(input(\"Masukan Nomor Antrian Prioritas = \"))\n",
    "        idxFind = arAntrian.index(nmrAntrianPrioritas)\n",
    "        del arAntrian[idxFind]\n",
    "        arAntrian.insert(0, nmrAntrianPrioritas)\n",
    "        return True\n",
    "    else:\n",
    "        return True"
   ]
  },
  {
   "cell_type": "code",
   "execution_count": 2,
   "id": "002e00d6-9f8b-472b-8037-f58670154a85",
   "metadata": {},
   "outputs": [
    {
     "name": "stdout",
     "output_type": "stream",
     "text": [
      "Menu Pilihan :\n",
      "  1. Ambil Antrian\n",
      "  2. Hapus Antrian\n",
      "  3. Panggil Antrian Selanjutnya\n",
      "  4. Antrian Prioritas\n",
      "  99. Exit\n"
     ]
    },
    {
     "ename": "NameError",
     "evalue": "name 'arAntrian' is not defined",
     "output_type": "error",
     "traceback": [
      "\u001b[1;31m---------------------------------------------------------------------------\u001b[0m",
      "\u001b[1;31mNameError\u001b[0m                                 Traceback (most recent call last)",
      "Cell \u001b[1;32mIn[2], line 10\u001b[0m\n\u001b[0;32m      7\u001b[0m \u001b[38;5;28mprint\u001b[39m(\u001b[38;5;124m\"\u001b[39m\u001b[38;5;124m  4. Antrian Prioritas\u001b[39m\u001b[38;5;124m\"\u001b[39m)\n\u001b[0;32m      9\u001b[0m \u001b[38;5;28mprint\u001b[39m(\u001b[38;5;124m\"\u001b[39m\u001b[38;5;124m  99. Exit\u001b[39m\u001b[38;5;124m\"\u001b[39m)\n\u001b[1;32m---> 10\u001b[0m \u001b[38;5;28mprint\u001b[39m(\u001b[38;5;124mf\u001b[39m\u001b[38;5;124m\"\u001b[39m\u001b[38;5;130;01m\\n\u001b[39;00m\u001b[38;5;130;01m\\n\u001b[39;00m\u001b[38;5;124mNomor Antrian : \u001b[39m\u001b[38;5;132;01m{\u001b[39;00m\u001b[43marAntrian\u001b[49m\u001b[38;5;132;01m}\u001b[39;00m\u001b[38;5;124m\"\u001b[39m)\n\u001b[0;32m     11\u001b[0m \u001b[38;5;28mprint\u001b[39m(\u001b[38;5;124mf\u001b[39m\u001b[38;5;124m\"\u001b[39m\u001b[38;5;130;01m\\n\u001b[39;00m\u001b[38;5;130;01m\\n\u001b[39;00m\u001b[38;5;124mAntrian Sekarang : \u001b[39m\u001b[38;5;132;01m{\u001b[39;00mantrianSekarang\u001b[38;5;132;01m}\u001b[39;00m\u001b[38;5;124m\"\u001b[39m)\n\u001b[0;32m     12\u001b[0m kondisi \u001b[38;5;241m=\u001b[39m appAntrian()\n",
      "\u001b[1;31mNameError\u001b[0m: name 'arAntrian' is not defined"
     ]
    }
   ],
   "source": [
    "kondisi = True\n",
    "while kondisi:\n",
    "    print(f\"Menu Pilihan :\")\n",
    "    print(\"  1. Ambil Antrian\")\n",
    "    print(\"  2. Hapus Antrian\")\n",
    "    print(\"  3. Panggil Antrian Selanjutnya\")\n",
    "    print(\"  4. Antrian Prioritas\")\n",
    "    \n",
    "    print(\"  99. Exit\")\n",
    "    print(f\"\\n\\nNomor Antrian : {arAntrian}\")\n",
    "    print(f\"\\n\\nAntrian Sekarang : {antrianSekarang}\")\n",
    "    kondisi = appAntrian()\n",
    "    #idxAntrian = idxAntrian + 1\n",
    "    clear_output(wait=False) #menghapus output"
   ]
  },
  {
   "cell_type": "code",
   "execution_count": null,
   "id": "f5213fba-997b-46ed-adee-060395e301c0",
   "metadata": {},
   "outputs": [],
   "source": []
  }
 ],
 "metadata": {
  "kernelspec": {
   "display_name": "Python 3 (ipykernel)",
   "language": "python",
   "name": "python3"
  },
  "language_info": {
   "codemirror_mode": {
    "name": "ipython",
    "version": 3
   },
   "file_extension": ".py",
   "mimetype": "text/x-python",
   "name": "python",
   "nbconvert_exporter": "python",
   "pygments_lexer": "ipython3",
   "version": "3.11.3"
  }
 },
 "nbformat": 4,
 "nbformat_minor": 5
}
